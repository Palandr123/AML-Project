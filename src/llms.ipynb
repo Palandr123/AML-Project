{
 "cells": [
  {
   "cell_type": "code",
   "execution_count": 1,
   "metadata": {},
   "outputs": [
    {
     "name": "stderr",
     "output_type": "stream",
     "text": [
      "/home/andrey/anaconda3/envs/aml_project/lib/python3.10/site-packages/tqdm/auto.py:21: TqdmWarning: IProgress not found. Please update jupyter and ipywidgets. See https://ipywidgets.readthedocs.io/en/stable/user_install.html\n",
      "  from .autonotebook import tqdm as notebook_tqdm\n"
     ]
    }
   ],
   "source": [
    "import torch\n",
    "from transformers import AutoModelForCausalLM, AutoTokenizer\n",
    "\n",
    "from src.template import template"
   ]
  },
  {
   "cell_type": "code",
   "execution_count": 2,
   "metadata": {},
   "outputs": [
    {
     "name": "stderr",
     "output_type": "stream",
     "text": [
      "Gemma's activation function should be approximate GeLU and not exact GeLU.\n",
      "Changing the activation function to `gelu_pytorch_tanh`.if you want to use the legacy `gelu`, edit the `model.config` to set `hidden_activation=gelu`   instead of `hidden_act`. See https://github.com/huggingface/transformers/pull/29402 for more details.\n",
      "Loading checkpoint shards: 100%|██████████| 4/4 [00:02<00:00,  1.63it/s]\n"
     ]
    }
   ],
   "source": [
    "# Model and tokenizer names\n",
    "model_name =\"google/gemma-7b-it\"\n",
    "\n",
    "# Load the model and tokenizer\n",
    "device = torch.device(\"cuda:1\")\n",
    "model = AutoModelForCausalLM.from_pretrained(model_name).eval().to(device)\n",
    "tokenizer = AutoTokenizer.from_pretrained(model_name)"
   ]
  },
  {
   "cell_type": "code",
   "execution_count": 3,
   "metadata": {},
   "outputs": [],
   "source": [
    "model_params = {\n",
    "    \"max_new_tokens\": 700,\n",
    "}\n",
    "message = [\n",
    "    *template, \n",
    "    {\n",
    "        \"role\": \"user\",\n",
    "        \"content\": \n",
    "        \"\"\"\n",
    "          Course title: Advanced Machine Learning\n",
    "          Short description: This course covers the following concepts: Advanced topics in machine learning; To develop research interest in the theory and application of machine learning.\n",
    "        \"\"\",\n",
    "    },\n",
    "]\n",
    "prompt = tokenizer.apply_chat_template(\n",
    "        message, tokenize=False, add_generation_prompt=True\n",
    "    )\n",
    "input_ids = tokenizer.encode(prompt, add_special_tokens=False, return_tensors=\"pt\")\n",
    "generated_ids = model.generate(\n",
    "    input_ids=input_ids.to(device),\n",
    "    **model_params,\n",
    ")\n",
    "response = tokenizer.decode(generated_ids[0])"
   ]
  },
  {
   "cell_type": "code",
   "execution_count": 4,
   "metadata": {},
   "outputs": [
    {
     "name": "stdout",
     "output_type": "stream",
     "text": [
      "\"Course Topics\": [\n",
      "            {\n",
      "            \"Section\": \"Advanced Supervised Learning\",\n",
      "            \"Topics within the section\": [\n",
      "                \"Deep Learning Fundamentals\",\n",
      "                \"Convolutional Neural Networks\",\n",
      "                \"Recurrent Neural Networks\",\n",
      "                \"Deep Learning Architectures\",\n",
      "                \"Transfer Learning\",\n",
      "                \"Active Learning\",\n",
      "                \"Bayesian Learning\",\n",
      "                \"Deep Learning Applications\"\n",
      "            ]\n",
      "            },\n",
      "            {\n",
      "            \"Section\": \"Advanced Unsupervised Learning\",\n",
      "            \"Topics within the section\": [\n",
      "                \"Dimensionality Reduction\",\n",
      "                \"Clustering Algorithms\",\n",
      "                \"Association Rule Mining\",\n",
      "                \"Graph Algorithms\",\n",
      "                \"Deep Learning for Unsupervised Learning\"\n",
      "            ]\n",
      "            },\n",
      "            {\n",
      "            \"Section\": \"Advanced Topics in Machine Learning\",\n",
      "            \"Topics within the section\": [\n",
      "                \"Machine Learning and Data Mining\",\n",
      "                \"Machine Learning and Data Science\",\n",
      "                \"Machine Learning and Robotics\",\n",
      "                \"Machine Learning and Healthcare\",\n",
      "                \"Machine Learning and Finance\",\n",
      "                \"Machine Learning and Transportation\"\n",
      "            ]\n",
      "            }\n",
      "        ]<eos>\n"
     ]
    }
   ],
   "source": [
    "print(response[len(prompt):])"
   ]
  },
  {
   "cell_type": "code",
   "execution_count": 5,
   "metadata": {},
   "outputs": [],
   "source": [
    "s = '\"Course Topics\": '\n",
    "import ast\n",
    "res = {\"Intended Learning Outcomes\": ast.literal_eval(response[len(prompt)+len(s):][:-5])}\n",
    "import json\n",
    "with open('aml.json', 'w', encoding='utf-8') as f:\n",
    "    json.dump(res, f, ensure_ascii=False, indent=4)"
   ]
  },
  {
   "cell_type": "code",
   "execution_count": null,
   "metadata": {},
   "outputs": [],
   "source": []
  }
 ],
 "metadata": {
  "kernelspec": {
   "display_name": "aml_project",
   "language": "python",
   "name": "python3"
  },
  "language_info": {
   "codemirror_mode": {
    "name": "ipython",
    "version": 3
   },
   "file_extension": ".py",
   "mimetype": "text/x-python",
   "name": "python",
   "nbconvert_exporter": "python",
   "pygments_lexer": "ipython3",
   "version": "3.10.14"
  }
 },
 "nbformat": 4,
 "nbformat_minor": 2
}
