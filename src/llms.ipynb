{
 "cells": [
  {
   "cell_type": "code",
   "execution_count": 1,
   "metadata": {},
   "outputs": [
    {
     "name": "stderr",
     "output_type": "stream",
     "text": [
      "/home/andrey/anaconda3/envs/aml_project/lib/python3.10/site-packages/tqdm/auto.py:21: TqdmWarning: IProgress not found. Please update jupyter and ipywidgets. See https://ipywidgets.readthedocs.io/en/stable/user_install.html\n",
      "  from .autonotebook import tqdm as notebook_tqdm\n"
     ]
    }
   ],
   "source": [
    "import torch\n",
    "from transformers import AutoModelForCausalLM, AutoTokenizer\n",
    "\n",
    "from src.template import template_ilo"
   ]
  },
  {
   "cell_type": "code",
   "execution_count": 2,
   "metadata": {},
   "outputs": [
    {
     "name": "stderr",
     "output_type": "stream",
     "text": [
      "Loading checkpoint shards: 100%|██████████| 2/2 [00:00<00:00,  2.80it/s]\n"
     ]
    }
   ],
   "source": [
    "# Model and tokenizer names{\n",
    "model_name = \"google/gemma-1.1-2b-it\" #\"mistralai/Mistral-7B-Instruct-v0.2\" #\"google/gemma-1.1-2b-it\" #\"google/gemma-7b-it\"\n",
    "\n",
    "# Load the model and tokenizer\n",
    "device = torch.device(\"cuda:1\")\n",
    "model = AutoModelForCausalLM.from_pretrained(model_name).eval().to(device)\n",
    "tokenizer = AutoTokenizer.from_pretrained(model_name)"
   ]
  },
  {
   "cell_type": "code",
   "execution_count": 7,
   "metadata": {},
   "outputs": [],
   "source": [
    "model_params = {\n",
    "    \"max_new_tokens\": 700,\n",
    "}\n",
    "COURSE_NAME = \"Big Data Technologies And Analytics\"\n",
    "COURSE_DESCRIPTION = \"This course covers the following concepts: Advanced distributed data organization; Advanced distributed data processing.\"\n",
    "content = f\"{template_ilo}\\nCOURSE: {COURSE_NAME}\\nDESCRIPTION: {COURSE_DESCRIPTION}\\nINTENDED_LEARNING_OUTCOMES:\" #COURSE_TOPICS:\"\n",
    "message = [ \n",
    "    {\n",
    "        \"role\": \"user\",\n",
    "        \"content\": content,\n",
    "    },\n",
    "]\n",
    "prompt = tokenizer.apply_chat_template(\n",
    "        message, tokenize=False, add_generation_prompt=True\n",
    "    )\n",
    "input_ids = tokenizer.encode(prompt, add_special_tokens=False, return_tensors=\"pt\")\n",
    "generated_ids = model.generate(\n",
    "    input_ids=input_ids.to(device),\n",
    "    **model_params,\n",
    ")\n",
    "response = tokenizer.decode(generated_ids[0])"
   ]
  },
  {
   "cell_type": "code",
   "execution_count": 8,
   "metadata": {},
   "outputs": [
    {
     "name": "stdout",
     "output_type": "stream",
     "text": [
      "```json\n",
      "{\n",
      "  \"COURSE\": \"Big Data Technologies and Analytics\",\n",
      "  \"DESCRIPTION\": \"This course provides an introduction to the rapidly evolving field of big data. Students will learn about the challenges and opportunities of big data, as well as the latest techniques and tools for processing, analyzing, and visualizing large datasets. Topics covered include distributed data storage, data processing frameworks, machine learning algorithms for big data, and cloud-based big data solutions.\",\n",
      "  \"INTENDED_LEARNING_OUTCOMES\": {\n",
      "    \"What is the main purpose of this course?\": \"The main purpose of this course is to equip students with the knowledge and skills necessary to leverage big data technologies and tools in various industries and domains.\",\n",
      "    \"ILOs defined at three levels\": {\n",
      "      \"Level 1: What concepts should a student know/remember/explain?\": [\n",
      "        \"Fundamentals of distributed data storage systems\",\n",
      "        \"Distributed data processing frameworks\",\n",
      "        \"Machine learning algorithms for big data\",\n",
      "        \"Cloud-based big data solutions\"\n",
      "      ],\n",
      "      \"Level 2: What basic practical skills should a student be able to perform?\": [\n",
      "        \"Implement distributed data processing algorithms\",\n",
      "        \"Analyze and visualize big data using machine learning techniques\",\n",
      "        \"Deploy big data solutions on cloud platforms\",\n",
      "        \"Evaluate the performance of big data processing systems\"\n",
      "      ],\n",
      "      \"Level 3: What complex comprehensive skills should a student be able to apply in real-life scenarios?\": [\n",
      "        \"Design and implement scalable and efficient big data processing systems\",\n",
      "        \"Develop machine learning algorithms for specific big data problems\",\n",
      "        \"Optimize the performance of big data processing systems\",\n",
      "        \"Evaluate the economic and social impact of big data technologies\"\n",
      "      ]\n",
      "    }\n",
      "  }\n",
      "}\n",
      "```<eos>\n"
     ]
    }
   ],
   "source": [
    "print(response[len(prompt):])"
   ]
  },
  {
   "cell_type": "code",
   "execution_count": 9,
   "metadata": {},
   "outputs": [
    {
     "name": "stdout",
     "output_type": "stream",
     "text": [
      "{\n",
      "    \"What is the main purpose of this course?\": \"The main purpose of this course is to equip students with the knowledge and skills necessary to leverage big data technologies and tools in various industries and domains.\",\n",
      "    \"ILOs defined at three levels\": {\n",
      "      \"Level 1: What concepts should a student know/remember/explain?\": [\n",
      "        \"Fundamentals of distributed data storage systems\",\n",
      "        \"Distributed data processing frameworks\",\n",
      "        \"Machine learning algorithms for big data\",\n",
      "        \"Cloud-based big data solutions\"\n",
      "      ],\n",
      "      \"Level 2: What basic practical skills should a student be able to perform?\": [\n",
      "        \"Implement distributed data processing algorithms\",\n",
      "        \"Analyze and visualize big data using machine learning techniques\",\n",
      "        \"Deploy big data solutions on cloud platforms\",\n",
      "        \"Evaluate the performance of big data processing systems\"\n",
      "      ],\n",
      "      \"Level 3: What complex comprehensive skills should a student be able to apply in real-life scenarios?\": [\n",
      "        \"Design and implement scalable and efficient big data processing systems\",\n",
      "        \"Develop machine learning algorithms for specific big data problems\",\n",
      "        \"Optimize the performance of big data processing systems\",\n",
      "        \"Evaluate the economic and social impact of big data technologies\"\n",
      "      ]\n",
      "    }\n",
      "  }\n",
      "\n"
     ]
    }
   ],
   "source": [
    "course_topics = response[len(prompt):].split('\"INTENDED_LEARNING_OUTCOMES\": ')[1]\n",
    "start_index = course_topics.index(\"{\")\n",
    "end_index = course_topics.rindex(\"}\")# + 1\n",
    "print(course_topics[start_index: end_index])"
   ]
  },
  {
   "cell_type": "code",
   "execution_count": 10,
   "metadata": {},
   "outputs": [],
   "source": [
    "import ast\n",
    "res = {\"Intended Learning Outcomes\": ast.literal_eval(course_topics[start_index: end_index])}\n",
    "import json\n",
    "with open('bd_gemma_ilo.json', 'w', encoding='utf-8') as f:\n",
    "    json.dump(res, f, ensure_ascii=False, indent=4)"
   ]
  },
  {
   "cell_type": "code",
   "execution_count": null,
   "metadata": {},
   "outputs": [],
   "source": []
  }
 ],
 "metadata": {
  "kernelspec": {
   "display_name": "aml_project",
   "language": "python",
   "name": "python3"
  },
  "language_info": {
   "codemirror_mode": {
    "name": "ipython",
    "version": 3
   },
   "file_extension": ".py",
   "mimetype": "text/x-python",
   "name": "python",
   "nbconvert_exporter": "python",
   "pygments_lexer": "ipython3",
   "version": "3.10.14"
  }
 },
 "nbformat": 4,
 "nbformat_minor": 2
}
